{
 "cells": [
  {
   "cell_type": "markdown",
   "metadata": {},
   "source": [
    "\n",
    "# General Least Squares Quiz"
   ]
  },
  {
   "cell_type": "markdown",
   "metadata": {},
   "source": [
    "## Imports\n"
   ]
  },
  {
   "cell_type": "code",
   "execution_count": 1,
   "metadata": {
    "lines_to_next_cell": 2
   },
   "outputs": [],
   "source": [
    "suppressPackageStartupMessages(library(R.utils))"
   ]
  },
  {
   "cell_type": "code",
   "execution_count": 2,
   "metadata": {
    "lines_to_next_cell": 2
   },
   "outputs": [
    {
     "data": {
      "text/html": [
       "<table>\n",
       "<caption>A data.frame: 15 × 6</caption>\n",
       "<thead>\n",
       "\t<tr><th></th><th scope=col>Fertility</th><th scope=col>Agriculture</th><th scope=col>Examination</th><th scope=col>Education</th><th scope=col>Catholic</th><th scope=col>Infant.Mortality</th></tr>\n",
       "\t<tr><th></th><th scope=col>&lt;dbl&gt;</th><th scope=col>&lt;dbl&gt;</th><th scope=col>&lt;int&gt;</th><th scope=col>&lt;int&gt;</th><th scope=col>&lt;dbl&gt;</th><th scope=col>&lt;dbl&gt;</th></tr>\n",
       "</thead>\n",
       "<tbody>\n",
       "\t<tr><th scope=row>Courtelary</th><td>80.2</td><td>17.0</td><td>15</td><td>12</td><td> 9.96</td><td>22.2</td></tr>\n",
       "\t<tr><th scope=row>Delemont</th><td>83.1</td><td>45.1</td><td> 6</td><td> 9</td><td>84.84</td><td>22.2</td></tr>\n",
       "\t<tr><th scope=row>Franches-Mnt</th><td>92.5</td><td>39.7</td><td> 5</td><td> 5</td><td>93.40</td><td>20.2</td></tr>\n",
       "\t<tr><th scope=row>Moutier</th><td>85.8</td><td>36.5</td><td>12</td><td> 7</td><td>33.77</td><td>20.3</td></tr>\n",
       "\t<tr><th scope=row>Neuveville</th><td>76.9</td><td>43.5</td><td>17</td><td>15</td><td> 5.16</td><td>20.6</td></tr>\n",
       "\t<tr><th scope=row>Porrentruy</th><td>76.1</td><td>35.3</td><td> 9</td><td> 7</td><td>90.57</td><td>26.6</td></tr>\n",
       "\t<tr><th scope=row>Broye</th><td>83.8</td><td>70.2</td><td>16</td><td> 7</td><td>92.85</td><td>23.6</td></tr>\n",
       "\t<tr><th scope=row>Glane</th><td>92.4</td><td>67.8</td><td>14</td><td> 8</td><td>97.16</td><td>24.9</td></tr>\n",
       "\t<tr><th scope=row>Gruyere</th><td>82.4</td><td>53.3</td><td>12</td><td> 7</td><td>97.67</td><td>21.0</td></tr>\n",
       "\t<tr><th scope=row>Sarine</th><td>82.9</td><td>45.2</td><td>16</td><td>13</td><td>91.38</td><td>24.4</td></tr>\n",
       "\t<tr><th scope=row>Veveyse</th><td>87.1</td><td>64.5</td><td>14</td><td> 6</td><td>98.61</td><td>24.5</td></tr>\n",
       "\t<tr><th scope=row>Aigle</th><td>64.1</td><td>62.0</td><td>21</td><td>12</td><td> 8.52</td><td>16.5</td></tr>\n",
       "\t<tr><th scope=row>Aubonne</th><td>66.9</td><td>67.5</td><td>14</td><td> 7</td><td> 2.27</td><td>19.1</td></tr>\n",
       "\t<tr><th scope=row>Avenches</th><td>68.9</td><td>60.7</td><td>19</td><td>12</td><td> 4.43</td><td>22.7</td></tr>\n",
       "\t<tr><th scope=row>Cossonay</th><td>61.7</td><td>69.3</td><td>22</td><td> 5</td><td> 2.82</td><td>18.7</td></tr>\n",
       "</tbody>\n",
       "</table>\n"
      ],
      "text/latex": [
       "A data.frame: 15 × 6\n",
       "\\begin{tabular}{r|llllll}\n",
       "  & Fertility & Agriculture & Examination & Education & Catholic & Infant.Mortality\\\\\n",
       "  & <dbl> & <dbl> & <int> & <int> & <dbl> & <dbl>\\\\\n",
       "\\hline\n",
       "\tCourtelary & 80.2 & 17.0 & 15 & 12 &  9.96 & 22.2\\\\\n",
       "\tDelemont & 83.1 & 45.1 &  6 &  9 & 84.84 & 22.2\\\\\n",
       "\tFranches-Mnt & 92.5 & 39.7 &  5 &  5 & 93.40 & 20.2\\\\\n",
       "\tMoutier & 85.8 & 36.5 & 12 &  7 & 33.77 & 20.3\\\\\n",
       "\tNeuveville & 76.9 & 43.5 & 17 & 15 &  5.16 & 20.6\\\\\n",
       "\tPorrentruy & 76.1 & 35.3 &  9 &  7 & 90.57 & 26.6\\\\\n",
       "\tBroye & 83.8 & 70.2 & 16 &  7 & 92.85 & 23.6\\\\\n",
       "\tGlane & 92.4 & 67.8 & 14 &  8 & 97.16 & 24.9\\\\\n",
       "\tGruyere & 82.4 & 53.3 & 12 &  7 & 97.67 & 21.0\\\\\n",
       "\tSarine & 82.9 & 45.2 & 16 & 13 & 91.38 & 24.4\\\\\n",
       "\tVeveyse & 87.1 & 64.5 & 14 &  6 & 98.61 & 24.5\\\\\n",
       "\tAigle & 64.1 & 62.0 & 21 & 12 &  8.52 & 16.5\\\\\n",
       "\tAubonne & 66.9 & 67.5 & 14 &  7 &  2.27 & 19.1\\\\\n",
       "\tAvenches & 68.9 & 60.7 & 19 & 12 &  4.43 & 22.7\\\\\n",
       "\tCossonay & 61.7 & 69.3 & 22 &  5 &  2.82 & 18.7\\\\\n",
       "\\end{tabular}\n"
      ],
      "text/markdown": [
       "\n",
       "A data.frame: 15 × 6\n",
       "\n",
       "| <!--/--> | Fertility &lt;dbl&gt; | Agriculture &lt;dbl&gt; | Examination &lt;int&gt; | Education &lt;int&gt; | Catholic &lt;dbl&gt; | Infant.Mortality &lt;dbl&gt; |\n",
       "|---|---|---|---|---|---|---|\n",
       "| Courtelary | 80.2 | 17.0 | 15 | 12 |  9.96 | 22.2 |\n",
       "| Delemont | 83.1 | 45.1 |  6 |  9 | 84.84 | 22.2 |\n",
       "| Franches-Mnt | 92.5 | 39.7 |  5 |  5 | 93.40 | 20.2 |\n",
       "| Moutier | 85.8 | 36.5 | 12 |  7 | 33.77 | 20.3 |\n",
       "| Neuveville | 76.9 | 43.5 | 17 | 15 |  5.16 | 20.6 |\n",
       "| Porrentruy | 76.1 | 35.3 |  9 |  7 | 90.57 | 26.6 |\n",
       "| Broye | 83.8 | 70.2 | 16 |  7 | 92.85 | 23.6 |\n",
       "| Glane | 92.4 | 67.8 | 14 |  8 | 97.16 | 24.9 |\n",
       "| Gruyere | 82.4 | 53.3 | 12 |  7 | 97.67 | 21.0 |\n",
       "| Sarine | 82.9 | 45.2 | 16 | 13 | 91.38 | 24.4 |\n",
       "| Veveyse | 87.1 | 64.5 | 14 |  6 | 98.61 | 24.5 |\n",
       "| Aigle | 64.1 | 62.0 | 21 | 12 |  8.52 | 16.5 |\n",
       "| Aubonne | 66.9 | 67.5 | 14 |  7 |  2.27 | 19.1 |\n",
       "| Avenches | 68.9 | 60.7 | 19 | 12 |  4.43 | 22.7 |\n",
       "| Cossonay | 61.7 | 69.3 | 22 |  5 |  2.82 | 18.7 |\n",
       "\n"
      ],
      "text/plain": [
       "             Fertility Agriculture Examination Education Catholic\n",
       "Courtelary   80.2      17.0        15          12         9.96   \n",
       "Delemont     83.1      45.1         6           9        84.84   \n",
       "Franches-Mnt 92.5      39.7         5           5        93.40   \n",
       "Moutier      85.8      36.5        12           7        33.77   \n",
       "Neuveville   76.9      43.5        17          15         5.16   \n",
       "Porrentruy   76.1      35.3         9           7        90.57   \n",
       "Broye        83.8      70.2        16           7        92.85   \n",
       "Glane        92.4      67.8        14           8        97.16   \n",
       "Gruyere      82.4      53.3        12           7        97.67   \n",
       "Sarine       82.9      45.2        16          13        91.38   \n",
       "Veveyse      87.1      64.5        14           6        98.61   \n",
       "Aigle        64.1      62.0        21          12         8.52   \n",
       "Aubonne      66.9      67.5        14           7         2.27   \n",
       "Avenches     68.9      60.7        19          12         4.43   \n",
       "Cossonay     61.7      69.3        22           5         2.82   \n",
       "             Infant.Mortality\n",
       "Courtelary   22.2            \n",
       "Delemont     22.2            \n",
       "Franches-Mnt 20.2            \n",
       "Moutier      20.3            \n",
       "Neuveville   20.6            \n",
       "Porrentruy   26.6            \n",
       "Broye        23.6            \n",
       "Glane        24.9            \n",
       "Gruyere      21.0            \n",
       "Sarine       24.4            \n",
       "Veveyse      24.5            \n",
       "Aigle        16.5            \n",
       "Aubonne      19.1            \n",
       "Avenches     22.7            \n",
       "Cossonay     18.7            "
      ]
     },
     "metadata": {},
     "output_type": "display_data"
    }
   ],
   "source": [
    "# Load the 'swiss' dataset:\n",
    "data(swiss)\n",
    "\n",
    "# Print the first 15 rows:\n",
    "head(swiss, 15)\n",
    "\n",
    "# Use 'Fertility' as the outcome:\n",
    "y <- swiss$Fertility"
   ]
  },
  {
   "cell_type": "markdown",
   "metadata": {},
   "source": [
    "## Solution 1"
   ]
  },
  {
   "cell_type": "markdown",
   "metadata": {},
   "source": [
    "### Question 7\n"
   ]
  },
  {
   "cell_type": "code",
   "execution_count": 3,
   "metadata": {
    "lines_to_next_cell": 2
   },
   "outputs": [],
   "source": [
    "# Predictors:\n",
    "x <- data.matrix(swiss[, -1])\n",
    "\n",
    "# Add an intercept column to the design matrix:\n",
    "x <- cbind(1, x)"
   ]
  },
  {
   "cell_type": "code",
   "execution_count": 4,
   "metadata": {
    "lines_to_next_cell": 2
   },
   "outputs": [
    {
     "name": "stdout",
     "output_type": "stream",
     "text": [
      "Agriculture coefficient = -0.172\n"
     ]
    }
   ],
   "source": [
    "# Compute the regression coefficients by solving the normal equation:\n",
    "coeffs <- solve(t(x) %*% x, t(x) %*% y)\n",
    "\n",
    "# 'Agriculture' coefficient:\n",
    "agr_coeff <- coeffs[\"Agriculture\", ]\n",
    "printf(\"Agriculture coefficient = %.3f\\n\", agr_coeff)"
   ]
  },
  {
   "cell_type": "markdown",
   "metadata": {},
   "source": [
    "### Question 8\n"
   ]
  },
  {
   "cell_type": "code",
   "execution_count": 5,
   "metadata": {
    "lines_to_next_cell": 2
   },
   "outputs": [
    {
     "name": "stdout",
     "output_type": "stream",
     "text": [
      "Fertility prediction = 58.074\n"
     ]
    }
   ],
   "source": [
    "# New data for the 'Fertility' prediction:\n",
    "# Agriculture      =  27.7,\n",
    "# Examination      =    22,\n",
    "# Education        =    29,\n",
    "# Catholic         = 58.33,\n",
    "# Infant Mortality =  19.3\n",
    "new_data <- c(1, 27.7, 22, 29, 58.33, 19.3)\n",
    "\n",
    "# Compute the prediction:\n",
    "coeffs <- as.vector(coeffs)\n",
    "pred <- sum(coeffs * new_data)\n",
    "printf(\"Fertility prediction = %.3f\\n\", pred)"
   ]
  },
  {
   "cell_type": "markdown",
   "metadata": {},
   "source": [
    "## Solution 2"
   ]
  },
  {
   "cell_type": "markdown",
   "metadata": {},
   "source": [
    "### Question 7\n"
   ]
  },
  {
   "cell_type": "code",
   "execution_count": 6,
   "metadata": {
    "lines_to_next_cell": 2
   },
   "outputs": [],
   "source": [
    "# Predictors:\n",
    "agr <- swiss$Agriculture\n",
    "exa <- swiss$Examination\n",
    "edu <- swiss$Education\n",
    "cat <- swiss$Catholic\n",
    "inf <- swiss$Infant.Mortality"
   ]
  },
  {
   "cell_type": "code",
   "execution_count": 7,
   "metadata": {
    "lines_to_next_cell": 2
   },
   "outputs": [
    {
     "name": "stdout",
     "output_type": "stream",
     "text": [
      "Agriculture coefficient = -0.172\n"
     ]
    }
   ],
   "source": [
    "# Compute the regression coefficients by using R's built-in functions:\n",
    "fit <- lm(formula = y ~ agr + exa + edu + cat + inf)\n",
    "coeffs <- coef(fit)\n",
    "\n",
    "# 'Agriculture' coefficient:\n",
    "agr_coeff <- coeffs[\"agr\"]\n",
    "printf(\"Agriculture coefficient = %.3f\\n\", agr_coeff)"
   ]
  },
  {
   "cell_type": "markdown",
   "metadata": {},
   "source": [
    "### Question 8\n"
   ]
  },
  {
   "cell_type": "code",
   "execution_count": 8,
   "metadata": {},
   "outputs": [
    {
     "name": "stdout",
     "output_type": "stream",
     "text": [
      "Fertility prediction = 58.074\n"
     ]
    }
   ],
   "source": [
    "# New data for the 'Fertility' prediction:\n",
    "# Agriculture      =  27.7,\n",
    "# Examination      =    22,\n",
    "# Education        =    29,\n",
    "# Catholic         = 58.33,\n",
    "# Infant Mortality =  19.3\n",
    "new_data <- data.frame(agr = 27.7, exa = 22, edu = 29, cat = 58.33, inf = 19.3)\n",
    "\n",
    "# Compute the prediction:\n",
    "pred <- predict(fit, new_data)\n",
    "printf(\"Fertility prediction = %.3f\\n\", pred)"
   ]
  }
 ],
 "metadata": {
  "jupytext": {
   "formats": "ipynb,Rmd"
  },
  "kernelspec": {
   "display_name": "R",
   "language": "R",
   "name": "ir"
  },
  "language_info": {
   "codemirror_mode": "r",
   "file_extension": ".r",
   "mimetype": "text/x-r-source",
   "name": "R",
   "pygments_lexer": "r",
   "version": "3.5.2"
  }
 },
 "nbformat": 4,
 "nbformat_minor": 4
}
