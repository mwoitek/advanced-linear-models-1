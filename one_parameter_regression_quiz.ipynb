{
 "cells": [
  {
   "cell_type": "markdown",
   "metadata": {},
   "source": [
    "# One Parameter Regression Quiz\n",
    "\n",
    "## Question 5"
   ]
  },
  {
   "cell_type": "code",
   "execution_count": 1,
   "metadata": {},
   "outputs": [],
   "source": [
    "# Predictor values:\n",
    "x <- c(-1.45, 2.28, -1.41, 1.05, -0.61)\n",
    "\n",
    "# Outcome values:\n",
    "y <- c(-1.52, 3.83, -1.90, 1.79, -0.42)"
   ]
  },
  {
   "cell_type": "code",
   "execution_count": 2,
   "metadata": {},
   "outputs": [],
   "source": [
    "# Compute the inner products:\n",
    "\n",
    "# Compute the inner product of x and y:\n",
    "numerator <- sum(x * y)\n",
    "\n",
    "# Compute the inner product of x and x:\n",
    "denominator <- sum(x * x)"
   ]
  },
  {
   "cell_type": "code",
   "execution_count": 3,
   "metadata": {},
   "outputs": [
    {
     "data": {
      "text/html": [
       "1.46336727488944"
      ],
      "text/latex": [
       "1.46336727488944"
      ],
      "text/markdown": [
       "1.46336727488944"
      ],
      "text/plain": [
       "[1] 1.463367"
      ]
     },
     "metadata": {},
     "output_type": "display_data"
    }
   ],
   "source": [
    "# Compute and print the regression coefficient:\n",
    "reg_coeff <- numerator / denominator\n",
    "reg_coeff"
   ]
  }
 ],
 "metadata": {
  "jupytext": {
   "formats": "ipynb,Rmd"
  },
  "kernelspec": {
   "display_name": "R",
   "language": "R",
   "name": "ir"
  },
  "language_info": {
   "codemirror_mode": "r",
   "file_extension": ".r",
   "mimetype": "text/x-r-source",
   "name": "R",
   "pygments_lexer": "r",
   "version": "3.5.2"
  }
 },
 "nbformat": 4,
 "nbformat_minor": 4
}
